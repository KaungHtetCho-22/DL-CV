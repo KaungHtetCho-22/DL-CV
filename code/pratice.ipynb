import cv2 
import numpy 
import os 

black_image = numpy.zeros((300,400))

print(black_image)
